{
 "cells": [
  {
   "cell_type": "code",
   "execution_count": 2,
   "id": "18320141",
   "metadata": {},
   "outputs": [],
   "source": [
    "#Q1 What does an empty dictionary code look like?\n",
    "#Ans\n",
    "x= {}"
   ]
  },
  {
   "cell_type": "code",
   "execution_count": 3,
   "id": "bc3e9913",
   "metadata": {},
   "outputs": [
    {
     "data": {
      "text/plain": [
       "dict"
      ]
     },
     "execution_count": 3,
     "metadata": {},
     "output_type": "execute_result"
    }
   ],
   "source": [
    "type(x)"
   ]
  },
  {
   "cell_type": "code",
   "execution_count": 4,
   "id": "3736d439",
   "metadata": {},
   "outputs": [],
   "source": [
    "#Q2 What is the value of a dictionary value with the key 'foo' and the value 42?\n",
    "x={\"foo\":42}"
   ]
  },
  {
   "cell_type": "code",
   "execution_count": 5,
   "id": "7616a585",
   "metadata": {},
   "outputs": [
    {
     "data": {
      "text/plain": [
       "{'foo': 42}"
      ]
     },
     "execution_count": 5,
     "metadata": {},
     "output_type": "execute_result"
    }
   ],
   "source": [
    "x"
   ]
  },
  {
   "cell_type": "code",
   "execution_count": null,
   "id": "38b0d253",
   "metadata": {},
   "outputs": [],
   "source": [
    "#Q3 What is the most significant distinction between a dictionary and a list?\n",
    "Ans The most significant distinction between a dictionary and a list is \n",
    "    The items stored in a dictionary are unordered, while the items in a list are ordered."
   ]
  },
  {
   "cell_type": "code",
   "execution_count": 6,
   "id": "60d91747",
   "metadata": {},
   "outputs": [],
   "source": [
    "#Q4 What happens if you try to access spam['foo'] if spam is {'bar': 100}?\n",
    "spam={\"bar\":100}"
   ]
  },
  {
   "cell_type": "code",
   "execution_count": 7,
   "id": "b214d0f1",
   "metadata": {},
   "outputs": [
    {
     "ename": "KeyError",
     "evalue": "'foo'",
     "output_type": "error",
     "traceback": [
      "\u001b[1;31m---------------------------------------------------------------------------\u001b[0m",
      "\u001b[1;31mKeyError\u001b[0m                                  Traceback (most recent call last)",
      "\u001b[1;32m~\\AppData\\Local\\Temp/ipykernel_18664/3999281786.py\u001b[0m in \u001b[0;36m<module>\u001b[1;34m\u001b[0m\n\u001b[1;32m----> 1\u001b[1;33m \u001b[0mspam\u001b[0m\u001b[1;33m[\u001b[0m\u001b[1;34m'foo'\u001b[0m\u001b[1;33m]\u001b[0m\u001b[1;33m\u001b[0m\u001b[1;33m\u001b[0m\u001b[0m\n\u001b[0m",
      "\u001b[1;31mKeyError\u001b[0m: 'foo'"
     ]
    }
   ],
   "source": [
    "spam['foo']"
   ]
  },
  {
   "cell_type": "code",
   "execution_count": null,
   "id": "dafbb345",
   "metadata": {},
   "outputs": [],
   "source": [
    "Here we will be getting a key error"
   ]
  },
  {
   "cell_type": "code",
   "execution_count": 8,
   "id": "77a989a4",
   "metadata": {},
   "outputs": [],
   "source": [
    "#Q5 If a dictionary is stored in spam, what is the difference between the expressions 'cat' in spam and\n",
    "#    'cat' in spam.keys()?\n",
    "spam={\"cat\":3}"
   ]
  },
  {
   "cell_type": "code",
   "execution_count": 9,
   "id": "6cad3eb2",
   "metadata": {},
   "outputs": [
    {
     "data": {
      "text/plain": [
       "{'cat': 3}"
      ]
     },
     "execution_count": 9,
     "metadata": {},
     "output_type": "execute_result"
    }
   ],
   "source": [
    "spam"
   ]
  },
  {
   "cell_type": "code",
   "execution_count": 11,
   "id": "947e343a",
   "metadata": {},
   "outputs": [
    {
     "data": {
      "text/plain": [
       "dict_keys(['cat'])"
      ]
     },
     "execution_count": 11,
     "metadata": {},
     "output_type": "execute_result"
    }
   ],
   "source": [
    "spam.keys()"
   ]
  },
  {
   "cell_type": "code",
   "execution_count": null,
   "id": "c14b2da6",
   "metadata": {},
   "outputs": [],
   "source": [
    "Ans- There is no difference. The in operator checks whether a value exists as a key in the dictionary."
   ]
  },
  {
   "cell_type": "markdown",
   "id": "ad3e6a8b",
   "metadata": {},
   "source": []
  },
  {
   "cell_type": "code",
   "execution_count": 12,
   "id": "863a2885",
   "metadata": {},
   "outputs": [
    {
     "data": {
      "text/plain": [
       "dict_values([3])"
      ]
     },
     "execution_count": 12,
     "metadata": {},
     "output_type": "execute_result"
    }
   ],
   "source": [
    "#Q6 If a dictionary is stored in spam, what is the difference between the expressions 'cat' in spam and\n",
    "#    'cat' in spam.values()?\n",
    "spam.values()"
   ]
  },
  {
   "cell_type": "code",
   "execution_count": null,
   "id": "eb540be8",
   "metadata": {},
   "outputs": [],
   "source": [
    "#cat' in spam.values() checks whether there is a value 'cat' for one of the keys in spam."
   ]
  },
  {
   "cell_type": "code",
   "execution_count": 13,
   "id": "b7a603e6",
   "metadata": {},
   "outputs": [
    {
     "data": {
      "text/plain": [
       "'black'"
      ]
     },
     "execution_count": 13,
     "metadata": {},
     "output_type": "execute_result"
    }
   ],
   "source": [
    "#Q7 What is a shortcut for the following code?\n",
    "#  if 'color' not in spam:\n",
    "#   spam['color'] = 'black\n",
    "spam.setdefault('color','black')"
   ]
  },
  {
   "cell_type": "code",
   "execution_count": 15,
   "id": "0123fe53",
   "metadata": {},
   "outputs": [],
   "source": [
    "#Q8 What module and function can be used to \"pretty print\" dictionary values?"
   ]
  },
  {
   "cell_type": "code",
   "execution_count": null,
   "id": "8f77a4ec",
   "metadata": {},
   "outputs": [],
   "source": []
  }
 ],
 "metadata": {
  "kernelspec": {
   "display_name": "Python 3 (ipykernel)",
   "language": "python",
   "name": "python3"
  },
  "language_info": {
   "codemirror_mode": {
    "name": "ipython",
    "version": 3
   },
   "file_extension": ".py",
   "mimetype": "text/x-python",
   "name": "python",
   "nbconvert_exporter": "python",
   "pygments_lexer": "ipython3",
   "version": "3.9.7"
  }
 },
 "nbformat": 4,
 "nbformat_minor": 5
}
